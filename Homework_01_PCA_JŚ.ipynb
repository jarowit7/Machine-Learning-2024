Im trying to get how does it work
